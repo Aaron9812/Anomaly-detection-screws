{
 "cells": [
  {
   "cell_type": "markdown",
   "id": "e3f6b780",
   "metadata": {
    "papermill": {
     "duration": 0.003816,
     "end_time": "2023-03-09T11:02:28.743670",
     "exception": false,
     "start_time": "2023-03-09T11:02:28.739854",
     "status": "completed"
    },
    "tags": []
   },
   "source": [
    "# Screw Anomalies Autoencoder"
   ]
  },
  {
   "cell_type": "markdown",
   "id": "b1ca7058",
   "metadata": {
    "papermill": {
     "duration": 0.002474,
     "end_time": "2023-03-09T11:02:28.749369",
     "exception": false,
     "start_time": "2023-03-09T11:02:28.746895",
     "status": "completed"
    },
    "tags": []
   },
   "source": [
    "## about Unsupervised Anomaly Detection\n",
    "Unsupervised anomaly detection is a type of machine learning algorithm that aims to identify anomalies or outliers in a dataset without any prior knowledge of what constitutes an anomaly. In contrast to supervised anomaly detection, which requires labeled data with examples of both normal and anomalous behavior, unsupervised anomaly detection algorithms work on unlabeled data, making them useful in situations where labeled data is scarce or unavailable.\n",
    "\n",
    "There are several techniques for unsupervised anomaly detection, including statistical methods, clustering algorithms, and deep learning approaches. Statistical methods involve modeling the normal behavior of the data and identifying points that deviate significantly from this model as anomalies. Clustering algorithms group data points into clusters based on their similarity and identify points that fall outside of any cluster as anomalies. Deep learning approaches use neural networks to learn the underlying patterns in the data and identify anomalies based on their deviation from these patterns."
   ]
  },
  {
   "cell_type": "code",
   "execution_count": 1,
   "id": "88bc1f83",
   "metadata": {
    "execution": {
     "iopub.execute_input": "2023-03-09T11:02:28.756938Z",
     "iopub.status.busy": "2023-03-09T11:02:28.756469Z",
     "iopub.status.idle": "2023-03-09T11:02:31.333458Z",
     "shell.execute_reply": "2023-03-09T11:02:31.332414Z"
    },
    "papermill": {
     "duration": 2.583891,
     "end_time": "2023-03-09T11:02:31.336064",
     "exception": false,
     "start_time": "2023-03-09T11:02:28.752173",
     "status": "completed"
    },
    "tags": []
   },
   "outputs": [],
   "source": [
    "import torch\n",
    "import torchvision\n",
    "import torch.nn as nn\n",
    "import torch.optim as optim\n",
    "import numpy as np\n",
    "from torch.utils.data import DataLoader\n",
    "from torchvision.datasets import ImageFolder\n",
    "from torchvision.transforms import transforms\n",
    "from torch.autograd import Variable\n",
    "import matplotlib.pyplot as plt"
   ]
  },
  {
   "cell_type": "markdown",
   "id": "881a7835",
   "metadata": {
    "papermill": {
     "duration": 0.002491,
     "end_time": "2023-03-09T11:02:31.341801",
     "exception": false,
     "start_time": "2023-03-09T11:02:31.339310",
     "status": "completed"
    },
    "tags": []
   },
   "source": [
    "## Train data of 1 class and Test data of several classes\n",
    "One-class classification can be useful in situations where there is limited data available for some classes or where the data is imbalanced. For example, in anomaly detection, the goal is to identify rare instances that do not conform to the normal behavior of the system. In such cases, it may be difficult to collect a large number of anomalous instances for training, and one-class classification can be used to identify anomalies based on their deviation from the normal behavior."
   ]
  },
  {
   "cell_type": "code",
   "execution_count": 2,
   "id": "ad857aa5",
   "metadata": {
    "execution": {
     "iopub.execute_input": "2023-03-09T11:02:31.349809Z",
     "iopub.status.busy": "2023-03-09T11:02:31.348027Z",
     "iopub.status.idle": "2023-03-09T11:02:31.571473Z",
     "shell.execute_reply": "2023-03-09T11:02:31.570370Z"
    },
    "papermill": {
     "duration": 0.230505,
     "end_time": "2023-03-09T11:02:31.574927",
     "exception": false,
     "start_time": "2023-03-09T11:02:31.344422",
     "status": "completed"
    },
    "tags": []
   },
   "outputs": [
    {
     "name": "stdout",
     "output_type": "stream",
     "text": [
      "['good', 'manipulated_front', 'scratch_head', 'scratch_neck', 'thread_side', 'thread_top']\n"
     ]
    }
   ],
   "source": [
    "device = torch.device('cuda' if torch.cuda.is_available() else 'cpu')\n",
    "\n",
    "# Image preprocessing\n",
    "transform = transforms.Compose([\n",
    "    transforms.Resize((224,224)), # Unify images to (224,224) size\n",
    "    transforms.ToTensor()\n",
    "])\n",
    "\n",
    "train_dir='screw_data/train'\n",
    "test_dir='screw_data/test'\n",
    "\n",
    "train_dataset = ImageFolder(root=train_dir, transform=transform)\n",
    "train_loader = DataLoader(train_dataset, batch_size=16, shuffle=True)\n",
    "\n",
    "test_dataset = ImageFolder(root=test_dir, transform=transform)\n",
    "test_loader = DataLoader(test_dataset, batch_size=16, shuffle=False)\n",
    "class_names = test_dataset.classes\n",
    "print(class_names)"
   ]
  },
  {
   "cell_type": "markdown",
   "id": "42c9a5ec",
   "metadata": {
    "papermill": {
     "duration": 0.002652,
     "end_time": "2023-03-09T11:02:31.580652",
     "exception": false,
     "start_time": "2023-03-09T11:02:31.578000",
     "status": "completed"
    },
    "tags": []
   },
   "source": [
    "## about Autoencoder\n",
    "Deep learning methods, such as autoencoders or variational autoencoders (VAEs), can also be used for one-class classification. In this approach, the model is trained to reconstruct the input data for the single class, and anomalies are identified by measuring the difference between the input data and the reconstructed output. Once the model is trained, it can be used to identify anomalies in new data points from multiple classes."
   ]
  },
  {
   "cell_type": "code",
   "execution_count": 3,
   "id": "2f3553b4",
   "metadata": {
    "execution": {
     "iopub.execute_input": "2023-03-09T11:02:31.587465Z",
     "iopub.status.busy": "2023-03-09T11:02:31.587152Z",
     "iopub.status.idle": "2023-03-09T11:02:31.596627Z",
     "shell.execute_reply": "2023-03-09T11:02:31.595629Z"
    },
    "papermill": {
     "duration": 0.015548,
     "end_time": "2023-03-09T11:02:31.598944",
     "exception": false,
     "start_time": "2023-03-09T11:02:31.583396",
     "status": "completed"
    },
    "tags": []
   },
   "outputs": [],
   "source": [
    "# Autoencoder\n",
    "class Autoencoder(nn.Module):\n",
    "    def __init__(self):\n",
    "        super(Autoencoder, self).__init__()\n",
    "        self.encoder = nn.Sequential(\n",
    "            nn.Conv2d(3, 16, kernel_size=3, padding=1),\n",
    "            nn.ReLU(),\n",
    "            nn.MaxPool2d(kernel_size=2, stride=2),\n",
    "            nn.Conv2d(16, 8, kernel_size=3, padding=1),\n",
    "            nn.ReLU(),\n",
    "            nn.MaxPool2d(kernel_size=2, stride=2),\n",
    "            nn.Conv2d(8, 4, kernel_size=3, padding=1),\n",
    "            nn.ReLU(),\n",
    "            nn.MaxPool2d(kernel_size=2, stride=2)\n",
    "        )\n",
    "        self.decoder = nn.Sequential(\n",
    "            nn.ConvTranspose2d(4, 8, kernel_size=3, stride=2, padding=1, output_padding=1),\n",
    "            nn.ReLU(),\n",
    "            nn.ConvTranspose2d(8, 16, kernel_size=3, stride=2, padding=1, output_padding=1),\n",
    "            nn.ReLU(),\n",
    "            nn.ConvTranspose2d(16, 3, kernel_size=3, stride=2, padding=1, output_padding=1),\n",
    "            nn.ReLU()\n",
    "        )\n",
    "\n",
    "    def forward(self, x):\n",
    "        x = self.encoder(x)\n",
    "        x = self.decoder(x)\n",
    "        return x"
   ]
  },
  {
   "cell_type": "code",
   "execution_count": 4,
   "id": "e8f86a25",
   "metadata": {
    "execution": {
     "iopub.execute_input": "2023-03-09T11:02:31.605908Z",
     "iopub.status.busy": "2023-03-09T11:02:31.605626Z",
     "iopub.status.idle": "2023-03-09T11:02:34.307391Z",
     "shell.execute_reply": "2023-03-09T11:02:34.306340Z"
    },
    "papermill": {
     "duration": 2.707949,
     "end_time": "2023-03-09T11:02:34.309984",
     "exception": false,
     "start_time": "2023-03-09T11:02:31.602035",
     "status": "completed"
    },
    "tags": []
   },
   "outputs": [],
   "source": [
    "# Instantiate Autoencoder and send to GPU\n",
    "autoencoder = Autoencoder().to(device)\n",
    "\n",
    "# Definition of loss function and optimizer\n",
    "criterion = nn.MSELoss()\n",
    "optimizer = optim.Adam(autoencoder.parameters(), lr=0.001)"
   ]
  },
  {
   "cell_type": "markdown",
   "id": "2beca14c",
   "metadata": {
    "papermill": {
     "duration": 0.00271,
     "end_time": "2023-03-09T11:02:34.315844",
     "exception": false,
     "start_time": "2023-03-09T11:02:34.313134",
     "status": "completed"
    },
    "tags": []
   },
   "source": [
    "## train the autoencoder\n",
    "To train the autoencoder, you can use PyTorch's built-in loss functions, such as the mean squared error (MSE) loss, to measure the difference between the input and output data. The autoencoder can be trained using stochastic gradient descent (SGD) or other optimization algorithms. Once the autoencoder is trained on normal data, you can use it to identify anomalies by comparing the reconstruction error of new data points to a threshold value."
   ]
  },
  {
   "cell_type": "code",
   "execution_count": 5,
   "id": "2b01fde5",
   "metadata": {
    "execution": {
     "iopub.execute_input": "2023-03-09T11:02:34.323063Z",
     "iopub.status.busy": "2023-03-09T11:02:34.322749Z",
     "iopub.status.idle": "2023-03-09T11:15:28.759949Z",
     "shell.execute_reply": "2023-03-09T11:15:28.758753Z"
    },
    "papermill": {
     "duration": 774.443332,
     "end_time": "2023-03-09T11:15:28.762324",
     "exception": false,
     "start_time": "2023-03-09T11:02:34.318992",
     "status": "completed"
    },
    "tags": []
   },
   "outputs": [
    {
     "name": "stdout",
     "output_type": "stream",
     "text": [
      "Epoch [1], Loss: 0.3623\n",
      "Epoch [2], Loss: 0.3065\n",
      "Epoch [3], Loss: 0.1884\n",
      "Epoch [4], Loss: 0.0653\n",
      "Epoch [5], Loss: 0.0238\n",
      "Epoch [6], Loss: 0.0143\n",
      "Epoch [7], Loss: 0.0109\n",
      "Epoch [8], Loss: 0.0094\n",
      "Epoch [9], Loss: 0.0084\n",
      "Epoch [10], Loss: 0.0076\n",
      "Epoch [11], Loss: 0.0069\n",
      "Epoch [12], Loss: 0.0062\n",
      "Epoch [13], Loss: 0.0055\n",
      "Epoch [14], Loss: 0.0048\n",
      "Epoch [15], Loss: 0.0040\n",
      "Epoch [16], Loss: 0.0034\n",
      "Epoch [17], Loss: 0.0029\n",
      "Epoch [18], Loss: 0.0025\n",
      "Epoch [19], Loss: 0.0023\n",
      "Epoch [20], Loss: 0.0022\n",
      "Epoch [21], Loss: 0.0021\n",
      "Epoch [22], Loss: 0.0021\n",
      "Epoch [23], Loss: 0.0020\n",
      "Epoch [24], Loss: 0.0019\n",
      "Epoch [25], Loss: 0.0019\n",
      "Epoch [26], Loss: 0.0019\n",
      "Epoch [27], Loss: 0.0018\n",
      "Epoch [28], Loss: 0.0018\n",
      "Epoch [29], Loss: 0.0017\n",
      "Epoch [30], Loss: 0.0017\n",
      "Epoch [31], Loss: 0.0017\n",
      "Epoch [32], Loss: 0.0017\n",
      "Epoch [33], Loss: 0.0016\n",
      "Epoch [34], Loss: 0.0016\n",
      "Epoch [35], Loss: 0.0016\n",
      "Epoch [36], Loss: 0.0016\n",
      "Epoch [37], Loss: 0.0016\n",
      "Epoch [38], Loss: 0.0016\n",
      "Epoch [39], Loss: 0.0015\n",
      "Epoch [40], Loss: 0.0014\n",
      "Epoch [41], Loss: 0.0014\n",
      "Epoch [42], Loss: 0.0013\n",
      "Epoch [43], Loss: 0.0012\n",
      "Epoch [44], Loss: 0.0012\n",
      "Epoch [45], Loss: 0.0012\n",
      "Epoch [46], Loss: 0.0012\n",
      "Epoch [47], Loss: 0.0011\n",
      "Epoch [48], Loss: 0.0011\n",
      "Epoch [49], Loss: 0.0011\n",
      "Epoch [50], Loss: 0.0011\n",
      "Epoch [51], Loss: 0.0011\n",
      "Epoch [52], Loss: 0.0011\n",
      "Epoch [53], Loss: 0.0010\n",
      "Epoch [54], Loss: 0.0010\n",
      "Epoch [55], Loss: 0.0010\n",
      "Epoch [56], Loss: 0.0010\n",
      "Epoch [57], Loss: 0.0010\n",
      "Epoch [58], Loss: 0.0010\n",
      "Epoch [59], Loss: 0.0010\n",
      "Epoch [60], Loss: 0.0010\n",
      "Epoch [61], Loss: 0.0010\n",
      "Epoch [62], Loss: 0.0010\n",
      "Epoch [63], Loss: 0.0010\n",
      "Epoch [64], Loss: 0.0010\n",
      "Epoch [65], Loss: 0.0010\n",
      "Epoch [66], Loss: 0.0010\n",
      "Epoch [67], Loss: 0.0010\n",
      "Epoch [68], Loss: 0.0009\n",
      "Epoch [69], Loss: 0.0009\n",
      "Epoch [70], Loss: 0.0009\n",
      "Epoch [71], Loss: 0.0009\n",
      "Epoch [72], Loss: 0.0009\n",
      "Epoch [73], Loss: 0.0009\n",
      "Epoch [74], Loss: 0.0009\n",
      "Epoch [75], Loss: 0.0009\n",
      "Epoch [76], Loss: 0.0009\n",
      "Epoch [77], Loss: 0.0009\n",
      "Epoch [78], Loss: 0.0009\n",
      "Epoch [79], Loss: 0.0009\n",
      "Epoch [80], Loss: 0.0009\n",
      "Epoch [81], Loss: 0.0009\n",
      "Epoch [82], Loss: 0.0009\n",
      "Epoch [83], Loss: 0.0009\n",
      "Epoch [84], Loss: 0.0009\n",
      "Epoch [85], Loss: 0.0009\n",
      "Epoch [86], Loss: 0.0009\n",
      "Epoch [87], Loss: 0.0009\n",
      "Epoch [88], Loss: 0.0009\n",
      "Epoch [89], Loss: 0.0009\n",
      "Epoch [90], Loss: 0.0009\n",
      "Epoch [91], Loss: 0.0009\n",
      "Epoch [92], Loss: 0.0009\n",
      "Epoch [93], Loss: 0.0009\n",
      "Epoch [94], Loss: 0.0009\n",
      "Epoch [95], Loss: 0.0009\n",
      "Epoch [96], Loss: 0.0009\n",
      "Epoch [97], Loss: 0.0009\n",
      "Epoch [98], Loss: 0.0009\n",
      "Epoch [99], Loss: 0.0009\n",
      "Epoch [100], Loss: 0.0009\n",
      "Test Loss: 0.0009\n"
     ]
    }
   ],
   "source": [
    "# training\n",
    "for epoch in range(100):\n",
    "    running_loss = 0.0\n",
    "    for data in train_loader:\n",
    "        img, _ = data\n",
    "        img = Variable(img).to(device)\n",
    "        optimizer.zero_grad()\n",
    "        outputs = autoencoder(img)\n",
    "        loss = criterion(outputs, img)\n",
    "        loss.backward()\n",
    "        optimizer.step()\n",
    "        running_loss += loss.item()\n",
    "\n",
    "    print('Epoch [%d], Loss: %.4f' % (epoch+1, running_loss/len(train_loader)))\n",
    "\n",
    "# test\n",
    "autoencoder.eval()\n",
    "test_loss = 0.0\n",
    "with torch.no_grad():\n",
    "    for data in test_loader:\n",
    "        img, _ = data\n",
    "        img = Variable(img).to(device)\n",
    "        outputs = autoencoder(img)\n",
    "        loss = criterion(outputs, img)\n",
    "        test_loss += loss.item()\n",
    "\n",
    "print('Test Loss: %.4f' % (test_loss/len(test_loader)))"
   ]
  },
  {
   "cell_type": "code",
   "execution_count": 6,
   "id": "6573ef8c",
   "metadata": {
    "execution": {
     "iopub.execute_input": "2023-03-09T11:15:28.780017Z",
     "iopub.status.busy": "2023-03-09T11:15:28.779416Z",
     "iopub.status.idle": "2023-03-09T11:15:32.637839Z",
     "shell.execute_reply": "2023-03-09T11:15:32.636824Z"
    },
    "papermill": {
     "duration": 3.869741,
     "end_time": "2023-03-09T11:15:32.640342",
     "exception": false,
     "start_time": "2023-03-09T11:15:28.770601",
     "status": "completed"
    },
    "tags": []
   },
   "outputs": [],
   "source": [
    "#### comparison bertween classes in test data\n",
    "autoencoder.eval()\n",
    "test_loader = DataLoader(test_dataset, batch_size=1, shuffle=False)\n",
    "class_encodings = [[] for i in range(6)]\n",
    "with torch.no_grad():\n",
    "    for data in test_loader:\n",
    "        img, label = data\n",
    "        img = Variable(img).to(device)\n",
    "        encoding = autoencoder.encoder(img)\n",
    "        class_encodings[label.item()].append(encoding.cpu().numpy().ravel())"
   ]
  },
  {
   "cell_type": "code",
   "execution_count": 7,
   "id": "d7528bce",
   "metadata": {
    "execution": {
     "iopub.execute_input": "2023-03-09T11:15:32.657684Z",
     "iopub.status.busy": "2023-03-09T11:15:32.657340Z",
     "iopub.status.idle": "2023-03-09T11:15:32.907671Z",
     "shell.execute_reply": "2023-03-09T11:15:32.906529Z"
    },
    "papermill": {
     "duration": 0.261593,
     "end_time": "2023-03-09T11:15:32.909856",
     "exception": false,
     "start_time": "2023-03-09T11:15:32.648263",
     "status": "completed"
    },
    "tags": []
   },
   "outputs": [
    {
     "data": {
      "image/png": "[encoded data removed]",
      "text/plain": [
       "<Figure size 800x600 with 1 Axes>"
      ]
     },
     "metadata": {},
     "output_type": "display_data"
    }
   ],
   "source": [
    "class_means = []\n",
    "class_mses = []\n",
    "for i in range(6):\n",
    "    class_means.append(np.mean(class_encodings[i]))\n",
    "    class_mse = np.mean((class_encodings[i] - class_means[i])**2)\n",
    "    class_mses.append(class_mse)\n",
    "\n",
    "plt.figure(figsize=(8, 6))\n",
    "plt.bar(np.arange(6)-0.2, class_means, width=0.4, label='Mean', alpha=0.5)\n",
    "plt.bar(np.arange(6)+0.2, class_mses, width=0.4, label='MSE', alpha=0.5)\n",
    "plt.xticks(range(6), class_names, rotation=90)\n",
    "plt.legend()\n",
    "plt.title(\"Class Encodings Mean and MSE Comparison\")\n",
    "plt.show()"
   ]
  }
 ],
 "metadata": {
  "kernelspec": {
   "display_name": "Python 3",
   "language": "python",
   "name": "python3"
  },
  "language_info": {
   "codemirror_mode": {
    "name": "ipython",
    "version": 3
   },
   "file_extension": ".py",
   "mimetype": "text/x-python",
   "name": "python",
   "nbconvert_exporter": "python",
   "pygments_lexer": "ipython3",
   "version": "3.9.16"
  },
  "papermill": {
   "default_parameters": {},
   "duration": 794.561584,
   "end_time": "2023-03-09T11:15:34.444306",
   "environment_variables": {},
   "exception": null,
   "input_path": "__notebook__.ipynb",
   "output_path": "__notebook__.ipynb",
   "parameters": {},
   "start_time": "2023-03-09T11:02:19.882722",
   "version": "2.4.0"
  }
 },
 "nbformat": 4,
 "nbformat_minor": 5
}
